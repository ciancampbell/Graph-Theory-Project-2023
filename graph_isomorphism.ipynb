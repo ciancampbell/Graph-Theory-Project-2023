{
 "cells": [
  {
   "cell_type": "markdown",
   "metadata": {},
   "source": [
    "# Graph Isomorphism Problem\n",
    "\n",
    "********\n",
    "\n",
    "###### Author: Cian Campbell\n",
    "\n",
    "*********"
   ]
  },
  {
   "attachments": {},
   "cell_type": "markdown",
   "metadata": {},
   "source": [
    "#### Definition of Graph Isomorphism Problem\n",
    "\n",
    "The graph isomorphism problem consists in deciding whether two given graphs are isomorphic, i.e. whether there is a bijective mapping (a permutation) from the nodes of one graph to the nodes of the second graph such that the edge connections are respected. [1] \n",
    "\n",
    "The graph isomorphism problem is the computational problem of determining whether two finite graphs are isomorphic. [2]"
   ]
  },
  {
   "attachments": {},
   "cell_type": "markdown",
   "metadata": {},
   "source": [
    "### Introduction \n",
    "\n",
    "Before getting into Graph-Isomorphism, let's break it down to its basis.\n",
    "\n",
    "What is a Graph? \n",
    "\n",
    "Graph: Graph is a mathematical representation of a network and it descibes the relationship between lines and points. A graph consists of some points and lines between them. Each objecct in a a graph is called a node.\n",
    "\n",
    "The diagram shows a graph with 6 vertices and 7 edges. [3]\n",
    "\n",
    "<img src=\"graph.png\" width=\"500\" height=\"340\">\n",
    "\n",
    "\n",
    "What is Isomorphic? \n",
    "\n",
    "Isomorphic: \"isomorphic\" means \"having the same form\" and is used in many branches of mathematics to identify mathematical objects which have the same structural properties. Objects which may be represented (or \"embedded\") differently but which have the same essential structure are often said to be \"identical up to an isomorphism.\"\n",
    "\n",
    "The statement \"A is isomorphic to B\" is denoted A=B (Harary 1994, p. 161; West 2000, p. 7). [4]"
   ]
  },
  {
   "attachments": {},
   "cell_type": "markdown",
   "metadata": {},
   "source": [
    "### How to Represent a Graph\n",
    "\n",
    "A graph can be represented using 3 data structures - Adjacenty matrix, adjacency list and adjacency sets.\n",
    "\n",
    "An adjacency matrix can be thought of as a table with rows and columns. The row labels and column labels represent the nodes of a graph. It is a square matrix wher the number of rows and coloums are the same as the nodes on the graph.\n",
    "\n",
    "<img src=\"adjacencyMatrix.png\" width=\"500\" height=\"250\">\n"
   ]
  },
  {
   "cell_type": "code",
   "execution_count": 2,
   "metadata": {},
   "outputs": [],
   "source": [
    "#import the required libraries \n",
    "import networkx as nx\n",
    "import matplotlib as plt"
   ]
  },
  {
   "cell_type": "code",
   "execution_count": 3,
   "metadata": {},
   "outputs": [],
   "source": [
    "G=nx.cycle_graph(5)"
   ]
  },
  {
   "cell_type": "markdown",
   "metadata": {},
   "source": []
  },
  {
   "cell_type": "code",
   "execution_count": 4,
   "metadata": {},
   "outputs": [
    {
     "name": "stderr",
     "output_type": "stream",
     "text": [
      "C:\\Users\\cianc\\AppData\\Local\\Temp\\ipykernel_10640\\2310441448.py:1: FutureWarning: adjacency_matrix will return a scipy.sparse array instead of a matrix in Networkx 3.0.\n",
      "  x=nx.adjacency_matrix(G)\n"
     ]
    }
   ],
   "source": [
    "x=nx.adjacency_matrix(G)"
   ]
  },
  {
   "cell_type": "code",
   "execution_count": 5,
   "metadata": {},
   "outputs": [
    {
     "name": "stdout",
     "output_type": "stream",
     "text": [
      "[[0 1 0 0 1]\n",
      " [1 0 1 0 0]\n",
      " [0 1 0 1 0]\n",
      " [0 0 1 0 1]\n",
      " [1 0 0 1 0]]\n"
     ]
    }
   ],
   "source": [
    "print(x.todense())"
   ]
  },
  {
   "cell_type": "markdown",
   "metadata": {},
   "source": [
    "**********\n",
    "##### References \n",
    "[1] https://books.google.ie/books?hl=en&lr=&id=vhvnBwAAQBAJ&oi=fnd&pg=PA1&dq=graph+isomorphism+definition&ots=OEtWmU1XDA&sig=OJi6E5F5mGdtnFRhbCvaQAsWk60&redir_esc=y#v=onepage&q&f=false\n",
    "[2]https://en.wikipedia.org/wiki/Graph_isomorphism_problem#:~:text=The%20graph%20isomorphism%20problem%20is%20the%20computational%20problem,may%20be%20in%20the%20computational%20complexity%20class%20NP-intermediate.\n",
    "[3]https://en.wikipedia.org/wiki/Graph_(discrete_mathemati\n",
    "[4]https://mathworld.wolfram.com/Isomorphic.html"
   ]
  }
 ],
 "metadata": {
  "kernelspec": {
   "display_name": "Python 3 (ipykernel)",
   "language": "python",
   "name": "python3"
  },
  "language_info": {
   "codemirror_mode": {
    "name": "ipython",
    "version": 3
   },
   "file_extension": ".py",
   "mimetype": "text/x-python",
   "name": "python",
   "nbconvert_exporter": "python",
   "pygments_lexer": "ipython3",
   "version": "3.9.13"
  },
  "vscode": {
   "interpreter": {
    "hash": "8c4e5bebbc0bd4e4beb2a413ef908fcd65d2afdb00d83cba221f2f0eea3ba11c"
   }
  }
 },
 "nbformat": 4,
 "nbformat_minor": 2
}
