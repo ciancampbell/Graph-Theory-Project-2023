{
 "cells": [
  {
   "attachments": {},
   "cell_type": "markdown",
   "metadata": {},
   "source": [
    "# Graph Isomorphism \n",
    "\n",
    "********\n",
    "\n",
    "##### Author: Cian Campbell\n",
    "\n",
    "*********"
   ]
  },
  {
   "attachments": {},
   "cell_type": "markdown",
   "metadata": {},
   "source": [
    "### Introduction \n",
    "\n",
    "Before getting into Graph-Isomorphism, let's break it down to its basis.\n",
    "\n",
    "What is a graph? \n"
   ]
  },
  {
   "cell_type": "markdown",
   "metadata": {},
   "source": []
  }
 ],
 "metadata": {
  "kernelspec": {
   "display_name": "Python 3",
   "language": "python",
   "name": "python3"
  },
  "language_info": {
   "codemirror_mode": {
    "name": "ipython",
    "version": 3
   },
   "file_extension": ".py",
   "mimetype": "text/x-python",
   "name": "python",
   "nbconvert_exporter": "python",
   "pygments_lexer": "ipython3",
   "version": "3.9.13 (main, Aug 25 2022, 23:51:50) [MSC v.1916 64 bit (AMD64)]"
  },
  "orig_nbformat": 4,
  "vscode": {
   "interpreter": {
    "hash": "8c4e5bebbc0bd4e4beb2a413ef908fcd65d2afdb00d83cba221f2f0eea3ba11c"
   }
  }
 },
 "nbformat": 4,
 "nbformat_minor": 2
}
