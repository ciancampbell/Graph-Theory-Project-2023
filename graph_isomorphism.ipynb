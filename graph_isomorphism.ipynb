{
 "cells": [
  {
   "attachments": {},
   "cell_type": "markdown",
   "metadata": {},
   "source": [
    "# Graph Isomorphism Problem\n",
    "\n",
    "********\n",
    "\n",
    "###### Author: Cian Campbell\n",
    "\n",
    "*********"
   ]
  },
  {
   "attachments": {},
   "cell_type": "markdown",
   "metadata": {},
   "source": [
    "#### Definition of Graph Isomorphism Problem\n",
    "\n",
    "The graph isomorphism proble consists in deciding whether two given graphs are isomorphic, i.e. whether there is a bijective mapping (a permutation) from the nodes of one graph to the nodes of the second graph such that the edge connections are respected. [1] \n",
    "\n",
    "The graph isomorphism problem is the computational problem of determining whether two finite graphs are isomorphic. [2]"
   ]
  },
  {
   "attachments": {},
   "cell_type": "markdown",
   "metadata": {},
   "source": [
    "### Introduction \n",
    "\n",
    "Before getting into Graph-Isomorphism, let's break it down to its basis.\n",
    "\n",
    "What is a graph? \n",
    "Graph: Graph is a mathematical representation of a network and it descibes the relationship between lines and points."
   ]
  },
  {
   "attachments": {},
   "cell_type": "markdown",
   "metadata": {},
   "source": [
    "**********\n",
    "##### References \n",
    "[1] https://books.google.ie/books?hl=en&lr=&id=vhvnBwAAQBAJ&oi=fnd&pg=PA1&dq=graph+isomorphism+definition&ots=OEtWmU1XDA&sig=OJi6E5F5mGdtnFRhbCvaQAsWk60&redir_esc=y#v=onepage&q&f=false\n",
    "[2]https://en.wikipedia.org/wiki/Graph_isomorphism_problem#:~:text=The%20graph%20isomorphism%20problem%20is%20the%20computational%20problem,may%20be%20in%20the%20computational%20complexity%20class%20NP-intermediate."
   ]
  }
 ],
 "metadata": {
  "kernelspec": {
   "display_name": "Python 3",
   "language": "python",
   "name": "python3"
  },
  "language_info": {
   "codemirror_mode": {
    "name": "ipython",
    "version": 3
   },
   "file_extension": ".py",
   "mimetype": "text/x-python",
   "name": "python",
   "nbconvert_exporter": "python",
   "pygments_lexer": "ipython3",
   "version": "3.9.13"
  },
  "orig_nbformat": 4,
  "vscode": {
   "interpreter": {
    "hash": "8c4e5bebbc0bd4e4beb2a413ef908fcd65d2afdb00d83cba221f2f0eea3ba11c"
   }
  }
 },
 "nbformat": 4,
 "nbformat_minor": 2
}
